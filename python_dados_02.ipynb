{
  "nbformat": 4,
  "nbformat_minor": 0,
  "metadata": {
    "colab": {
      "provenance": [],
      "authorship_tag": "ABX9TyMSZu6XydNBmvLRYOZ4ErkA",
      "include_colab_link": true
    },
    "kernelspec": {
      "name": "python3",
      "display_name": "Python 3"
    },
    "language_info": {
      "name": "python"
    }
  },
  "cells": [
    {
      "cell_type": "markdown",
      "metadata": {
        "id": "view-in-github",
        "colab_type": "text"
      },
      "source": [
        "<a href=\"https://colab.research.google.com/github/MayaraZucheli/python_dados/blob/main/python_dados_02.ipynb\" target=\"_parent\"><img src=\"https://colab.research.google.com/assets/colab-badge.svg\" alt=\"Open In Colab\"/></a>"
      ]
    },
    {
      "cell_type": "code",
      "execution_count": 5,
      "metadata": {
        "colab": {
          "base_uri": "https://localhost:8080/"
        },
        "id": "d_9SLXSTLHJD",
        "outputId": "c25f493e-8942-4cf1-a01f-0f863784d267"
      },
      "outputs": [
        {
          "output_type": "stream",
          "name": "stdout",
          "text": [
            "['The Shawshank Redemption', 'The Godfather', 'The Dark Knight', 'The Godfather Part II', '12 Angry Men', 'Schindlers List', 'The Lord of the Rings: The Return of the King', 'Pulp Fiction', 'The Lord of the Rings: The Fellowship of the Ring', 'The Good, the Bad and the Ugly']\n",
            "['The Godfather', 'The Shawshank Redemption', 'The Godfather', 'The Dark Knight', 'The Godfather Part II', '12 Angry Men', 'Schindlers List', 'The Lord of the Rings: The Return of the King', 'Pulp Fiction', 'The Lord of the Rings: The Fellowship of the Ring', 'The Good, the Bad and the Ugly']\n",
            "['The Godfather', 'The Shawshank Redemption', 'The Dark Knight', 'The Godfather Part II', '12 Angry Men', 'Schindlers List', 'The Lord of the Rings: The Return of the King', 'Pulp Fiction', 'The Lord of the Rings: The Fellowship of the Ring', 'The Good, the Bad and the Ugly']\n"
          ]
        }
      ],
      "source": [
        "filmes = ['The Shawshank Redemption', 'The Godfather', 'The Dark Knight', 'The Godfather Part II', '12 Angry Men', 'Schindlers List', 'The Lord of the Rings: The Return of the King', 'Pulp Fiction', 'The Lord of the Rings: The Fellowship of the Ring', 'The Good, the Bad and the Ugly']\n",
        "print(filmes)\n",
        "filmes.insert(0,'The Godfather' )\n",
        "print(filmes)\n",
        "filmes.pop(2)\n",
        "print(filmes)"
      ]
    },
    {
      "cell_type": "code",
      "source": [
        "filmes = ['The Shawshank Redemption', 'The Godfather', 'The Dark Knight', 'The Godfather Part II', '12 Angry Men', 'Schindlers List', 'The Lord of the Rings: The Return of the King', 'Pulp Fiction', 'The Lord of the Rings: The Fellowship of the Ring', 'The Good, the Bad and the Ugly']\n",
        "\n",
        "ultimos_filmes = filmes[-3:]\n",
        "filmes.extend(ultimos_filmes)\n",
        "print(filmes)"
      ],
      "metadata": {
        "colab": {
          "base_uri": "https://localhost:8080/"
        },
        "id": "AQCKIh9NM1tS",
        "outputId": "50d262c1-6bce-4966-cb51-37ecc7e275b5"
      },
      "execution_count": 6,
      "outputs": [
        {
          "output_type": "stream",
          "name": "stdout",
          "text": [
            "['The Shawshank Redemption', 'The Godfather', 'The Dark Knight', 'The Godfather Part II', '12 Angry Men', 'Schindlers List', 'The Lord of the Rings: The Return of the King', 'Pulp Fiction', 'The Lord of the Rings: The Fellowship of the Ring', 'The Good, the Bad and the Ugly', 'Pulp Fiction', 'The Lord of the Rings: The Fellowship of the Ring', 'The Good, the Bad and the Ugly']\n"
          ]
        }
      ]
    },
    {
      "cell_type": "code",
      "source": [
        "filmes = ['The Shawshank Redemption', 'The Godfather', 'The Dark Knight', 'The Godfather Part II', '12 Angry Men', 'Schindlers List', 'The Lord of the Rings: The Return of the King', 'Pulp Fiction', 'The Lord of the Rings: The Fellowship of the Ring', 'The Good, the Bad and the Ugly', 'Pulp Fiction', 'The Lord of the Rings: The Fellowship of the Ring', 'The Good, the Bad and the Ugly']\n",
        "\n",
        "filmes_sem_duplicados = list(set(filmes))\n",
        "\n",
        "print(filmes_sem_duplicados)\n"
      ],
      "metadata": {
        "colab": {
          "base_uri": "https://localhost:8080/"
        },
        "id": "HFJBZABGOaQw",
        "outputId": "b8693fc2-e57f-4178-f8ef-b7f42be523e8"
      },
      "execution_count": 7,
      "outputs": [
        {
          "output_type": "stream",
          "name": "stdout",
          "text": [
            "['The Godfather Part II', 'The Shawshank Redemption', 'The Good, the Bad and the Ugly', 'The Dark Knight', '12 Angry Men', 'Schindlers List', 'The Godfather', 'The Lord of the Rings: The Fellowship of the Ring', 'Pulp Fiction', 'The Lord of the Rings: The Return of the King']\n"
          ]
        }
      ]
    },
    {
      "cell_type": "code",
      "source": [
        "filmes = [\n",
        "    {\n",
        "        'nome': 'The Shawshank Redemption',\n",
        "        'ano': 1994,\n",
        "        'sinopse': 'Um homem é condenado injustamente à prisão e busca a redenção ao fazer amizade com um outro preso, ajudando-o a alcançar a liberdade.'\n",
        "    },\n",
        "    {\n",
        "        'nome': 'The Godfather',\n",
        "        'ano': 1972,\n",
        "        'sinopse': 'A história da poderosa família mafiosa Corleone, que enfrenta desafios internos e externos enquanto o patriarca, Vito Corleone, tenta garantir a segurança de sua família.'\n",
        "    },\n",
        "    {\n",
        "        'nome': 'The Dark Knight',\n",
        "        'ano': 2008,\n",
        "        'sinopse': 'O Cavaleiro das Trevas enfrenta o Coringa, um vilão caótico que ameaça destruir Gotham City e desafiar a moralidade de seus cidadãos.'\n",
        "    },\n",
        "    {\n",
        "        'nome': 'The Godfather Part II',\n",
        "        'ano': 1974,\n",
        "        'sinopse': 'Continuação da saga da família Corleone, explorando a ascensão de Vito Corleone e as dificuldades enfrentadas por seu filho Michael enquanto ele expande os negócios da família.'\n",
        "    },\n",
        "    {\n",
        "        'nome': '12 Angry Men',\n",
        "        'ano': 1957,\n",
        "        'sinopse': 'Doze jurados são convocados para decidir o destino de um jovem acusado de assassinato, e um jurado tenta convencer os outros a reconsiderar o caso.'\n",
        "    },\n",
        "    {\n",
        "        'nome': 'Schindler\\'s List',\n",
        "        'ano': 1993,\n",
        "        'sinopse': 'Baseado em uma história real, um industrial alemão salva a vida de mais de mil judeus durante o Holocausto, arriscando tudo para protegê-los.'\n",
        "    },\n",
        "    {\n",
        "        'nome': 'The Lord of the Rings: The Return of the King',\n",
        "        'ano': 2003,\n",
        "        'sinopse': 'O épico final da trilogia Senhor dos Anéis, onde a batalha final contra as forças de Sauron decide o destino da Terra Média.'\n",
        "    },\n",
        "    {\n",
        "        'nome': 'Pulp Fiction',\n",
        "        'ano': 1994,\n",
        "        'sinopse': 'Uma série de histórias interconectadas envolvendo criminosos em Los Angeles, com diálogos irreverentes e uma narrativa não linear.'\n",
        "    },\n",
        "    {\n",
        "        'nome': 'The Lord of the Rings: The Fellowship of the Ring',\n",
        "        'ano': 2001,\n",
        "        'sinopse': 'O início da jornada para destruir o Um Anel, com um grupo de heróis se unindo para enfrentar o Senhor das Trevas, Sauron.'\n",
        "    },\n",
        "    {\n",
        "        'nome': 'The Good, the Bad and the Ugly',\n",
        "        'ano': 1966,\n",
        "        'sinopse': 'Três pistoleiros competem para encontrar um tesouro enterrado durante a Guerra Civil Americana, cada um com seus próprios objetivos e lealdades.'\n",
        "    }\n",
        "]\n",
        "\n",
        "print(filmes)\n"
      ],
      "metadata": {
        "colab": {
          "base_uri": "https://localhost:8080/"
        },
        "id": "-J9KRphdO-JZ",
        "outputId": "75252133-d474-41cd-856b-881a9e288c7a"
      },
      "execution_count": 8,
      "outputs": [
        {
          "output_type": "stream",
          "name": "stdout",
          "text": [
            "[{'nome': 'The Shawshank Redemption', 'ano': 1994, 'sinopse': 'Um homem é condenado injustamente à prisão e busca a redenção ao fazer amizade com um outro preso, ajudando-o a alcançar a liberdade.'}, {'nome': 'The Godfather', 'ano': 1972, 'sinopse': 'A história da poderosa família mafiosa Corleone, que enfrenta desafios internos e externos enquanto o patriarca, Vito Corleone, tenta garantir a segurança de sua família.'}, {'nome': 'The Dark Knight', 'ano': 2008, 'sinopse': 'O Cavaleiro das Trevas enfrenta o Coringa, um vilão caótico que ameaça destruir Gotham City e desafiar a moralidade de seus cidadãos.'}, {'nome': 'The Godfather Part II', 'ano': 1974, 'sinopse': 'Continuação da saga da família Corleone, explorando a ascensão de Vito Corleone e as dificuldades enfrentadas por seu filho Michael enquanto ele expande os negócios da família.'}, {'nome': '12 Angry Men', 'ano': 1957, 'sinopse': 'Doze jurados são convocados para decidir o destino de um jovem acusado de assassinato, e um jurado tenta convencer os outros a reconsiderar o caso.'}, {'nome': \"Schindler's List\", 'ano': 1993, 'sinopse': 'Baseado em uma história real, um industrial alemão salva a vida de mais de mil judeus durante o Holocausto, arriscando tudo para protegê-los.'}, {'nome': 'The Lord of the Rings: The Return of the King', 'ano': 2003, 'sinopse': 'O épico final da trilogia Senhor dos Anéis, onde a batalha final contra as forças de Sauron decide o destino da Terra Média.'}, {'nome': 'Pulp Fiction', 'ano': 1994, 'sinopse': 'Uma série de histórias interconectadas envolvendo criminosos em Los Angeles, com diálogos irreverentes e uma narrativa não linear.'}, {'nome': 'The Lord of the Rings: The Fellowship of the Ring', 'ano': 2001, 'sinopse': 'O início da jornada para destruir o Um Anel, com um grupo de heróis se unindo para enfrentar o Senhor das Trevas, Sauron.'}, {'nome': 'The Good, the Bad and the Ugly', 'ano': 1966, 'sinopse': 'Três pistoleiros competem para encontrar um tesouro enterrado durante a Guerra Civil Americana, cada um com seus próprios objetivos e lealdades.'}]\n"
          ]
        }
      ]
    }
  ]
}