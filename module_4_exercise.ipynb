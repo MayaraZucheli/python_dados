{
  "cells": [
    {
      "cell_type": "markdown",
      "metadata": {
        "id": "view-in-github",
        "colab_type": "text"
      },
      "source": [
        "<a href=\"https://colab.research.google.com/github/MayaraZucheli/python_dados/blob/main/module_4_exercise.ipynb\" target=\"_parent\"><img src=\"https://colab.research.google.com/assets/colab-badge.svg\" alt=\"Open In Colab\"/></a>"
      ]
    },
    {
      "cell_type": "markdown",
      "metadata": {
        "id": "4F4DbJGQHPMa"
      },
      "source": [
        "# Exercício bônus"
      ]
    },
    {
      "cell_type": "markdown",
      "metadata": {
        "id": "U4S19ZvHsPcE"
      },
      "source": [
        "## 1\\. Funções para arquivo csv"
      ]
    },
    {
      "cell_type": "markdown",
      "metadata": {
        "id": "Mcf3mkOrtHzK"
      },
      "source": [
        "Complete a função abaixo para extrair uma coluna do arquivo csv em uma lista. Os elementos devem ter o tipo de dado correto."
      ]
    },
    {
      "cell_type": "code",
      "execution_count": 7,
      "metadata": {
        "id": "W-1PAg7Ctt7i"
      },
      "outputs": [],
      "source": [
        "import csv\n",
        "\n",
        "def extrai_coluna_csv(nome_arquivo: str, indice_coluna: int, tipo_dado: str):\n",
        "\n",
        "    coluna = []\n",
        "\n",
        "    with open(nome_arquivo, mode='r', encoding='utf-8') as arquivo:\n",
        "        leitor = csv.reader(arquivo)\n",
        "        for linha in leitor:\n",
        "            if len(linha) > indice_coluna:\n",
        "                valor = linha[indice_coluna]\n",
        "                if tipo_dado == 'int':\n",
        "                    try:\n",
        "                        valor = int(valor)\n",
        "                    except ValueError:\n",
        "                        raise ValueError(f\"Não foi possível converter '{valor}' para int.\")\n",
        "                elif tipo_dado == 'float':\n",
        "                    try:\n",
        "                        valor = float(valor)\n",
        "                    except ValueError:\n",
        "                        raise ValueError(f\"Não foi possível converter '{valor}' para float.\")\n",
        "                elif tipo_dado == 'str':\n",
        "                    valor = str(valor)\n",
        "                else:\n",
        "                    raise ValueError(f\"Tipo de dado desconhecido: {tipo_dado}\")\n",
        "                coluna.append(valor)\n",
        "            else:\n",
        "                raise IndexError(f\"O índice {indice_coluna} está fora do alcance para a linha: {linha}\")\n",
        "\n",
        "    return coluna\n"
      ]
    },
    {
      "cell_type": "markdown",
      "metadata": {
        "id": "qCbQF6jru_01"
      },
      "source": [
        "Você pode testar a função com os códigos abaixo."
      ]
    },
    {
      "cell_type": "code",
      "execution_count": 11,
      "metadata": {
        "id": "Rl-EYdySu90s",
        "colab": {
          "base_uri": "https://localhost:8080/"
        },
        "outputId": "10f76c06-5ccb-4806-8ff8-0438ed14eacc"
      },
      "outputs": [
        {
          "output_type": "stream",
          "name": "stdout",
          "text": [
            "['valor_venda', 'vhigh', 'med', 'low', 'low', 'low', 'low', 'low', 'low', 'low', 'low', 'low', 'low', 'low', 'low']\n"
          ]
        }
      ],
      "source": [
        "valor_venda = extrai_coluna_csv(nome_arquivo='./carros.csv', indice_coluna=1, tipo_dado='str')\n",
        "print(valor_venda)\n"
      ]
    },
    {
      "cell_type": "code",
      "execution_count": 15,
      "metadata": {
        "id": "hvD-zzwDwboD",
        "colab": {
          "base_uri": "https://localhost:8080/"
        },
        "outputId": "4c9c9295-5185-4e86-badd-9a1fc349c2b8"
      },
      "outputs": [
        {
          "output_type": "stream",
          "name": "stdout",
          "text": [
            "['pessoas', '2', '2', '2', '2', '2', '4', '4', '2', '2', '2', '4', '2', '4', '4']\n"
          ]
        }
      ],
      "source": [
        "pessoas = extrai_coluna_csv(nome_arquivo='./carros.csv', indice_coluna=4, tipo_dado='str')\n",
        "print(pessoas)\n",
        "\n",
        "\n"
      ]
    },
    {
      "cell_type": "markdown",
      "metadata": {
        "id": "QTS5-sSbs4ie"
      },
      "source": [
        "---"
      ]
    },
    {
      "cell_type": "markdown",
      "metadata": {
        "id": "sebqs6uztCH4"
      },
      "source": [
        "## 2\\. Funções para arquivo txt"
      ]
    },
    {
      "cell_type": "markdown",
      "metadata": {
        "id": "IFVBGkNhzB3P"
      },
      "source": [
        "Complete a função abaixo para extrair uma as palavras de uma linha do arquivo txt em uma lista."
      ]
    },
    {
      "cell_type": "code",
      "execution_count": 21,
      "metadata": {
        "id": "ewrNqMtczWZJ"
      },
      "outputs": [],
      "source": [
        "def extrai_linha_txt(nome_arquivo: str, numero_linha: int):\n",
        "    palavras_linha = []\n",
        "\n",
        "    with open(nome_arquivo, 'r', encoding='utf-8') as arquivo:\n",
        "\n",
        "        linhas = arquivo.readlines()\n",
        "\n",
        "        if 0 < numero_linha <= len(linhas):\n",
        "\n",
        "            palavras_linha = linhas[numero_linha - 1].split()\n",
        "\n",
        "    return palavras_linha\n"
      ]
    },
    {
      "cell_type": "markdown",
      "metadata": {
        "id": "Qz2UwipIz0t2"
      },
      "source": [
        "Você pode testar a função com os códigos abaixo."
      ]
    },
    {
      "cell_type": "code",
      "execution_count": 22,
      "metadata": {
        "id": "_Wxp43qqz1V2",
        "colab": {
          "base_uri": "https://localhost:8080/"
        },
        "outputId": "3111e847-99e1-4c37-9697-98eb8feaa22e"
      },
      "outputs": [
        {
          "output_type": "stream",
          "name": "stdout",
          "text": [
            "['Mas', 'eis', 'que', 'chega', 'a', 'roda', 'viva']\n"
          ]
        }
      ],
      "source": [
        "linha10 = extrai_linha_txt(nome_arquivo='./musica.txt', numero_linha=10)\n",
        "print(linha10)\n"
      ]
    },
    {
      "cell_type": "markdown",
      "metadata": {
        "id": "Fo9qTjietCH6"
      },
      "source": [
        "---"
      ]
    },
    {
      "cell_type": "markdown",
      "metadata": {
        "id": "GABI6OW8OfQ2"
      },
      "source": [
        "# **Exercícios**"
      ]
    },
    {
      "cell_type": "markdown",
      "metadata": {
        "id": "muD1vxozykSC"
      },
      "source": [
        "## 0\\. Preparação do ambiente"
      ]
    },
    {
      "cell_type": "markdown",
      "metadata": {
        "id": "ahrFfCuBxJKs"
      },
      "source": [
        "Neste exercício vamos trabalhar com os arquivos de csv e texto definidos abaixo. Execute cada uma das células de código para escrever os arquivos na sua máquina virtual."
      ]
    },
    {
      "cell_type": "markdown",
      "metadata": {
        "id": "u0uFuhRSq_hQ"
      },
      "source": [
        "* **carros.csv**: arquivo csv com informações sobre carros (venda, manutenção, portas, etc.)."
      ]
    },
    {
      "cell_type": "code",
      "execution_count": 1,
      "metadata": {
        "id": "daMf-xaXqKs2",
        "outputId": "a3b10deb-5ab2-4e80-c8f7-818ff42a803d",
        "colab": {
          "base_uri": "https://localhost:8080/"
        }
      },
      "outputs": [
        {
          "output_type": "stream",
          "name": "stdout",
          "text": [
            "Writing carros.csv\n"
          ]
        }
      ],
      "source": [
        "%%writefile carros.csv\n",
        "id,valor_venda,valor_manutencao,portas,pessoas,porta_malas\n",
        "1,vhigh,med,2,2,small\n",
        "2,med,vhigh,2,2,small\n",
        "3,low,vhigh,2,2,small\n",
        "4,low,high,2,2,small\n",
        "5,low,high,2,2,small\n",
        "6,low,high,4,4,big\n",
        "7,low,high,4,4,big\n",
        "8,low,med,2,2,small\n",
        "9,low,med,2,2,small\n",
        "10,low,med,2,2,small\n",
        "11,low,med,4,4,big\n",
        "12,low,low,2,2,small\n",
        "13,low,low,4,4,small\n",
        "14,low,low,4,4,med"
      ]
    },
    {
      "cell_type": "markdown",
      "metadata": {
        "id": "X0Z2PhbCrTz1"
      },
      "source": [
        "* **musica.txt**: arquivo texto com a letra da música Roda Viva do Chico Buarque."
      ]
    },
    {
      "cell_type": "code",
      "execution_count": 2,
      "metadata": {
        "id": "m7Ge2rggrU73",
        "outputId": "d1695325-3812-4b48-91a0-088c79aaa50d",
        "colab": {
          "base_uri": "https://localhost:8080/"
        }
      },
      "outputs": [
        {
          "output_type": "stream",
          "name": "stdout",
          "text": [
            "Writing musica.txt\n"
          ]
        }
      ],
      "source": [
        "%%writefile musica.txt\n",
        "Roda Viva\n",
        "Chico Buarque\n",
        "\n",
        "Tem dias que a gente se sente\n",
        "Como quem partiu ou morreu\n",
        "A gente estancou de repente\n",
        "Ou foi o mundo então que cresceu\n",
        "A gente quer ter voz ativa\n",
        "No nosso destino mandar\n",
        "Mas eis que chega a roda viva\n",
        "E carrega o destino pra lá\n",
        "\n",
        "Roda mundo, roda-gigante\n",
        "Roda moinho, roda pião\n",
        "\n",
        "O tempo rodou num instante\n",
        "Nas voltas do meu coração\n",
        "A gente vai contra a corrente\n",
        "Até não poder resistir\n",
        "Na volta do barco é que sente\n",
        "O quanto deixou de cumprir\n",
        "Faz tempo que a gente cultiva\n",
        "A mais linda roseira que há\n",
        "Mas eis que chega a roda viva\n",
        "E carrega a roseira pra lá\n",
        "\n",
        "Roda mundo, roda-gigante\n",
        "Roda moinho, roda pião"
      ]
    },
    {
      "cell_type": "markdown",
      "metadata": {
        "id": "zMN1Q3jdwoJm"
      },
      "source": [
        "---"
      ]
    },
    {
      "cell_type": "markdown",
      "metadata": {
        "id": "EhpCr1hDHPMW"
      },
      "source": [
        "## 1. Extração de coluna de arquivo csv"
      ]
    },
    {
      "cell_type": "markdown",
      "metadata": {
        "id": "wgjffXO5HPMW"
      },
      "source": [
        "1.1. Extraia os valores `valor_venda` e armazena em uma lista."
      ]
    },
    {
      "cell_type": "code",
      "execution_count": 3,
      "metadata": {
        "id": "GyKCiNs4HPMX",
        "colab": {
          "base_uri": "https://localhost:8080/"
        },
        "outputId": "062042ea-7f88-403c-c5d7-88756daead21"
      },
      "outputs": [
        {
          "output_type": "stream",
          "name": "stdout",
          "text": [
            "['med', 'vhigh', 'vhigh', 'high', 'high', 'high', 'high', 'med', 'med', 'med', 'med', 'low', 'low', 'low']\n"
          ]
        }
      ],
      "source": [
        "valor_venda = []\n",
        "\n",
        "with open(file='./carros.csv', mode='r', encoding='utf8') as arquivo:\n",
        "    linha = arquivo.readline()\n",
        "    linha = arquivo.readline()\n",
        "    while linha:\n",
        "        linha_separada = linha.split(sep=',')\n",
        "        valor = linha_separada[2]\n",
        "        valor_venda.append(valor)\n",
        "        linha = arquivo.readline()\n",
        "\n",
        "print(valor_venda)"
      ]
    },
    {
      "cell_type": "markdown",
      "metadata": {
        "id": "jtz4YGkPHPMX"
      },
      "source": [
        "1.2 Complete a função abaixo para extrair uma coluna, do arquivo csv em uma lista.\n"
      ]
    },
    {
      "cell_type": "code",
      "execution_count": 18,
      "metadata": {
        "id": "rhVrTud-HPMY"
      },
      "outputs": [],
      "source": [
        "import csv\n",
        "\n",
        "def extrai_coluna_csv(nome_arquivo: str, indice_coluna: int, tipo_dado: str = 'str'):\n",
        "\n",
        "    coluna = []\n",
        "\n",
        "    with open(nome_arquivo, mode='r', encoding='utf-8') as arquivo:\n",
        "        leitor = csv.reader(arquivo)\n",
        "        next(leitor)\n",
        "        for linha in leitor:\n",
        "            if len(linha) > indice_coluna:\n",
        "                valor = linha[indice_coluna]\n",
        "                if tipo_dado == 'int':\n",
        "                    try:\n",
        "                        valor = int(valor)\n",
        "                    except ValueError:\n",
        "                        raise ValueError(f\"Não foi possível converter '{valor}' para int.\")\n",
        "                elif tipo_dado == 'float':\n",
        "                    try:\n",
        "                        valor = float(valor)\n",
        "                    except ValueError:\n",
        "                        raise ValueError(f\"Não foi possível converter '{valor}' para float.\")\n",
        "                elif tipo_dado == 'str':\n",
        "                    valor = str(valor)\n",
        "                else:\n",
        "                    raise ValueError(f\"Tipo de dado desconhecido: {tipo_dado}\")\n",
        "                coluna.append(valor)\n",
        "            else:\n",
        "                raise IndexError(f\"O índice {indice_coluna} está fora do alcance para a linha: {linha}\")\n",
        "\n",
        "    return coluna\n"
      ]
    },
    {
      "cell_type": "markdown",
      "metadata": {
        "id": "aOMrs6bvHPMY"
      },
      "source": [
        "Você pode testar a função com os códigos abaixo."
      ]
    },
    {
      "cell_type": "code",
      "execution_count": 19,
      "metadata": {
        "id": "gO_VPjyAHPMZ",
        "colab": {
          "base_uri": "https://localhost:8080/"
        },
        "outputId": "2319ae1e-0aff-40d2-c7d2-4ff55e6e2757"
      },
      "outputs": [
        {
          "output_type": "stream",
          "name": "stdout",
          "text": [
            "['med', 'vhigh', 'vhigh', 'high', 'high', 'high', 'high', 'med', 'med', 'med', 'med', 'low', 'low', 'low']\n"
          ]
        }
      ],
      "source": [
        "valor_manutencao = extrai_coluna_csv(nome_arquivo='./carros.csv', indice_coluna=2)\n",
        "print(valor_manutencao)\n"
      ]
    },
    {
      "cell_type": "code",
      "execution_count": 20,
      "metadata": {
        "id": "DDZI0aS7HPMa",
        "colab": {
          "base_uri": "https://localhost:8080/"
        },
        "outputId": "ed9b5042-402b-4d0b-d1cd-0317607ed662"
      },
      "outputs": [
        {
          "output_type": "stream",
          "name": "stdout",
          "text": [
            "['small', 'small', 'small', 'small', 'small', 'big', 'big', 'small', 'small', 'small', 'big', 'small', 'small', 'med']\n"
          ]
        }
      ],
      "source": [
        "porta_malas = extrai_coluna_csv(nome_arquivo='./carros.csv', indice_coluna=5)\n",
        "print(porta_malas)\n"
      ]
    }
  ],
  "metadata": {
    "colab": {
      "provenance": [],
      "include_colab_link": true
    },
    "kernelspec": {
      "display_name": "Python 3 (ipykernel)",
      "language": "python",
      "name": "python3"
    },
    "language_info": {
      "codemirror_mode": {
        "name": "ipython",
        "version": 3
      },
      "file_extension": ".py",
      "mimetype": "text/x-python",
      "name": "python",
      "nbconvert_exporter": "python",
      "pygments_lexer": "ipython3",
      "version": "3.9.7"
    }
  },
  "nbformat": 4,
  "nbformat_minor": 0
}